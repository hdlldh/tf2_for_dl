{
 "cells": [
  {
   "cell_type": "markdown",
   "metadata": {},
   "source": [
    "# Multivariate Gaussian with full covariance"
   ]
  },
  {
   "cell_type": "markdown",
   "metadata": {},
   "source": [
    "In this reading you will learn how you can use TensorFlow to specify any multivariate Gaussian distribution."
   ]
  },
  {
   "cell_type": "code",
   "execution_count": 1,
   "metadata": {},
   "outputs": [
    {
     "name": "stdout",
     "output_type": "stream",
     "text": [
      "TF version: 2.4.1\n",
      "TFP version: 0.12.2\n"
     ]
    }
   ],
   "source": [
    "import tensorflow as tf\n",
    "import tensorflow_probability as tfp\n",
    "tfd = tfp.distributions\n",
    "\n",
    "print(\"TF version:\", tf.__version__)\n",
    "print(\"TFP version:\", tfp.__version__)"
   ]
  },
  {
   "cell_type": "markdown",
   "metadata": {},
   "source": [
    "So far, you've seen how to define multivariate Gaussian distributions using `tfd.MultivariateNormalDiag`. This class allows you to specify a multivariate Gaussian with a diagonal covariance matrix $\\Sigma$. \n",
    "\n",
    "In cases where the variance is the same for each component, i.e. $\\Sigma = \\sigma^2 I$, this is known as a _spherical_ or _isotropic_ Gaussian. This name comes from the spherical (or circular) contours of its probability density function, as you can see from the plot below for the two-dimensional case. "
   ]
  },
  {
   "cell_type": "code",
   "execution_count": 2,
   "metadata": {
    "tags": [
     "hide_input"
    ]
   },
   "outputs": [
    {
     "data": {
      "image/png": "[encoded data removed]",
      "text/plain": [
       "<Figure size 432x432 with 3 Axes>"
      ]
     },
     "metadata": {
      "needs_background": "light"
     },
     "output_type": "display_data"
    }
   ],
   "source": [
    "# Plot the approximate density contours of a 2d spherical Gaussian\n",
    "\n",
    "import seaborn as sns\n",
    "import matplotlib.pyplot as plt\n",
    "%matplotlib inline\n",
    "\n",
    "spherical_2d_gaussian = tfd.MultivariateNormalDiag(loc=[0., 0.])\n",
    "\n",
    "N = 100000\n",
    "x = spherical_2d_gaussian.sample(N)\n",
    "x1 = x[:, 0]\n",
    "x2 = x[:, 1]\n",
    "sns.jointplot(x1, x2, kind='kde', space=0, );"
   ]
  },
  {
   "cell_type": "markdown",
   "metadata": {},
   "source": [
    "As you know, a diagonal covariance matrix results in the components of the random vector being independent. "
   ]
  },
  {
   "cell_type": "markdown",
   "metadata": {},
   "source": [
    "## Full covariance with `MultivariateNormalFullTriL`"
   ]
  },
  {
   "cell_type": "markdown",
   "metadata": {},
   "source": [
    "You can define a full covariance Gaussian distribution in TensorFlow using the Distribution `tfd.MultivariateNormalTriL`.\n",
    "\n",
    "Mathematically, the parameters of a multivariate Gaussian are a mean $\\mu$ and a covariance matrix $\\Sigma$, and so the `tfd.MultivariateNormalTriL` constructor requires two arguments:\n",
    "\n",
    "- `loc`, a Tensor of floats corresponding to $\\mu$,\n",
    "- `scale_tril`, a a lower-triangular matrix $L$ such that $LL^T = \\Sigma$.\n",
    "\n",
    "For a $d$-dimensional random variable, the lower-triangular matrix $L$ looks like this:\n",
    "\n",
    "\\begin{equation}\n",
    "    L = \\begin{bmatrix}\n",
    "            l_{1, 1} & 0 & 0 & \\cdots & 0 \\\\\n",
    "            l_{2, 1} & l_{2, 2} & 0 & \\cdots & 0  \\\\\n",
    "            l_{3, 1} & l_{3, 2} & l_{3, 3} & \\cdots & 0  \\\\\n",
    "            \\vdots  & \\vdots & \\vdots & \\ddots & \\vdots \\\\\n",
    "            l_{d, 1} & l_{d, 2} & l_{d, 3} & \\cdots & l_{d, d}\n",
    "        \\end{bmatrix},\n",
    "\\end{equation}\n",
    "\n",
    "where the diagonal entries are positive: $l_{i, i} > 0$ for $i=1,\\ldots,d$.\n",
    "\n",
    "Here is an example of creating a two-dimensional Gaussian with non-diagonal covariance:"
   ]
  },
  {
   "cell_type": "code",
   "execution_count": 3,
   "metadata": {},
   "outputs": [
    {
     "name": "stdout",
     "output_type": "stream",
     "text": [
      "tf.Tensor(\n",
      "[[1.  0.6]\n",
      " [0.6 1. ]], shape=(2, 2), dtype=float32)\n"
     ]
    }
   ],
   "source": [
    "# Set the mean and covariance parameters\n",
    "\n",
    "mu = [0., 0.]  # mean\n",
    "scale_tril = [[1.,  0.],\n",
    "              [0.6, 0.8]]\n",
    "\n",
    "sigma = tf.matmul(tf.constant(scale_tril), tf.transpose(tf.constant(scale_tril)))  # covariance matrix\n",
    "print(sigma)"
   ]
  },
  {
   "cell_type": "code",
   "execution_count": 4,
   "metadata": {},
   "outputs": [
    {
     "data": {
      "text/plain": [
       "<tfp.distributions.MultivariateNormalTriL 'MultivariateNormalTriL' batch_shape=[] event_shape=[2] dtype=float32>"
      ]
     },
     "execution_count": 4,
     "metadata": {},
     "output_type": "execute_result"
    }
   ],
   "source": [
    "# Create the 2D Gaussian with full covariance\n",
    "\n",
    "nonspherical_2d_gaussian = tfd.MultivariateNormalTriL(loc=mu, scale_tril=scale_tril)\n",
    "nonspherical_2d_gaussian"
   ]
  },
  {
   "cell_type": "code",
   "execution_count": 5,
   "metadata": {},
   "outputs": [
    {
     "data": {
      "text/plain": [
       "<tf.Tensor: shape=(2,), dtype=float32, numpy=array([0., 0.], dtype=float32)>"
      ]
     },
     "execution_count": 5,
     "metadata": {},
     "output_type": "execute_result"
    }
   ],
   "source": [
    "# Check the Distribution mean\n",
    "\n",
    "nonspherical_2d_gaussian.mean()"
   ]
  },
  {
   "cell_type": "code",
   "execution_count": 6,
   "metadata": {},
   "outputs": [
    {
     "data": {
      "text/plain": [
       "<tf.Tensor: shape=(2, 2), dtype=float32, numpy=\n",
       "array([[1. , 0.6],\n",
       "       [0.6, 1. ]], dtype=float32)>"
      ]
     },
     "execution_count": 6,
     "metadata": {},
     "output_type": "execute_result"
    }
   ],
   "source": [
    "# Check the Distribution covariance\n",
    "\n",
    "nonspherical_2d_gaussian.covariance()"
   ]
  },
  {
   "cell_type": "code",
   "execution_count": 7,
   "metadata": {
    "tags": [
     "\"hide_input\""
    ]
   },
   "outputs": [
    {
     "data": {
      "image/png": "[encoded data removed]",
      "text/plain": [
       "<Figure size 432x432 with 3 Axes>"
      ]
     },
     "metadata": {
      "needs_background": "light"
     },
     "output_type": "display_data"
    }
   ],
   "source": [
    "# Plot its approximate density contours\n",
    "\n",
    "x = nonspherical_2d_gaussian.sample(N)\n",
    "x1 = x[:, 0]\n",
    "x2 = x[:, 1]\n",
    "sns.jointplot(x1, x2, kind='kde', space=0, color='r');"
   ]
  },
  {
   "cell_type": "markdown",
   "metadata": {},
   "source": [
    "As you can see, the approximate density contours are now elliptical rather than circular. This is because the components of the Gaussian are correlated.\n",
    "\n",
    "Also note that the marginal distributions (shown on the sides of the plot) are both univariate Gaussian distributions."
   ]
  },
  {
   "cell_type": "markdown",
   "metadata": {},
   "source": [
    "## The Cholesky decomposition"
   ]
  },
  {
   "cell_type": "markdown",
   "metadata": {},
   "source": [
    "In the above example, we defined the lower triangular matrix $L$ and used that to build the multivariate Gaussian distribution. The covariance matrix is easily computed from $L$ as $\\Sigma = LL^T$.\n",
    "\n",
    "The reason that we define the multivariate Gaussian distribution in this way - as opposed to directly passing in the covariance matrix - is that not every matrix is a valid covariance matrix. The covariance matrix must have the following properties:\n",
    "\n",
    "1. It is symmetric\n",
    "2. It is positive (semi-)definite\n",
    "\n",
    "_NB: A symmetric matrix $M \\in \\mathbb{R}^{d\\times d}$ is positive semi-definite if it satisfies $b^TMb \\ge 0$ for all nonzero $b\\in\\mathbb{R}^d$. If, in addition, we have $b^TMb = 0 \\Rightarrow b=0$ then $M$ is positive definite._\n",
    "\n",
    "The Cholesky decomposition is a useful way of writing a covariance matrix. The decomposition is described by this result:\n",
    "\n",
    "> For every real-valued symmetric positive-definite matrix $M$, there is a unique lower-diagonal matrix $L$ that has  positive diagonal entries for which  \n",
    ">\n",
    "> \\begin{equation}\n",
    "     LL^T = M\n",
    " \\end{equation}\n",
    "> This is called the _Cholesky decomposition_ of $M$.\n",
    "\n",
    "This result shows us why Gaussian distributions with full covariance are completely represented by the `MultivariateNormalTriL` Distribution."
   ]
  },
  {
   "cell_type": "markdown",
   "metadata": {},
   "source": [
    "### `tf.linalg.cholesky`"
   ]
  },
  {
   "cell_type": "markdown",
   "metadata": {},
   "source": [
    "In case you have a valid covariance matrix $\\Sigma$ and would like to compute the lower triangular matrix $L$ above to instantiate a `MultivariateNormalTriL` object, this can be done with the `tf.linalg.cholesky` function. "
   ]
  },
  {
   "cell_type": "code",
   "execution_count": 8,
   "metadata": {},
   "outputs": [],
   "source": [
    "# Define a symmetric positive-definite matrix\n",
    "\n",
    "sigma = [[10., 5.], [5., 10.]]"
   ]
  },
  {
   "cell_type": "code",
   "execution_count": 9,
   "metadata": {},
   "outputs": [
    {
     "data": {
      "text/plain": [
       "<tf.Tensor: shape=(2, 2), dtype=float32, numpy=\n",
       "array([[3.1622777, 0.       ],\n",
       "       [1.5811388, 2.738613 ]], dtype=float32)>"
      ]
     },
     "execution_count": 9,
     "metadata": {},
     "output_type": "execute_result"
    }
   ],
   "source": [
    "# Compute the lower triangular matrix L from the Cholesky decomposition\n",
    "\n",
    "scale_tril = tf.linalg.cholesky(sigma)\n",
    "scale_tril"
   ]
  },
  {
   "cell_type": "code",
   "execution_count": 10,
   "metadata": {},
   "outputs": [
    {
     "data": {
      "text/plain": [
       "<tf.Tensor: shape=(2, 2), dtype=float32, numpy=\n",
       "array([[10.,  5.],\n",
       "       [ 5., 10.]], dtype=float32)>"
      ]
     },
     "execution_count": 10,
     "metadata": {},
     "output_type": "execute_result"
    }
   ],
   "source": [
    "# Check that LL^T = Sigma\n",
    "\n",
    "tf.linalg.matmul(scale_tril, tf.transpose(scale_tril))"
   ]
  },
  {
   "cell_type": "markdown",
   "metadata": {},
   "source": [
    "If the argument to the `tf.linalg.cholesky` is not positive definite, then it will fail:"
   ]
  },
  {
   "cell_type": "code",
   "execution_count": 11,
   "metadata": {},
   "outputs": [
    {
     "name": "stdout",
     "output_type": "stream",
     "text": [
      "Cholesky decomposition was not successful. The input might not be valid. [Op:Cholesky]\n"
     ]
    }
   ],
   "source": [
    "# Try to compute the Cholesky decomposition for a matrix with negative eigenvalues\n",
    "\n",
    "bad_sigma = [[10., 11.], [11., 10.]]\n",
    "\n",
    "try:\n",
    "    scale_tril = tf.linalg.cholesky(bad_sigma)\n",
    "except Exception as e:\n",
    "    print(e)"
   ]
  },
  {
   "cell_type": "markdown",
   "metadata": {},
   "source": [
    "### What about positive semi-definite matrices?\n",
    "\n",
    "In cases where the matrix is only positive semi-definite, the Cholesky decomposition exists (if the diagonal entries of $L$ can be zero) but it is not unique.\n",
    "\n",
    "For covariance matrices, this corresponds to the degenerate case where the probability density function collapses to a subspace of the event space. This is demonstrated in the following example:"
   ]
  },
  {
   "cell_type": "code",
   "execution_count": 12,
   "metadata": {},
   "outputs": [
    {
     "data": {
      "text/plain": [
       "<tfp.distributions.MultivariateNormalTriL 'MultivariateNormalTriL' batch_shape=[] event_shape=[2] dtype=float32>"
      ]
     },
     "execution_count": 12,
     "metadata": {},
     "output_type": "execute_result"
    }
   ],
   "source": [
    "# Create a multivariate Gaussian with a positive semi-definite covariance matrix\n",
    "\n",
    "psd_mvn = tfd.MultivariateNormalTriL(loc=[0., 0.], scale_tril=[[1., 0.], [0.4, 0.]])\n",
    "psd_mvn"
   ]
  },
  {
   "cell_type": "code",
   "execution_count": 13,
   "metadata": {},
   "outputs": [
    {
     "data": {
      "image/png": "[encoded data removed]",
      "text/plain": [
       "<Figure size 432x288 with 1 Axes>"
      ]
     },
     "metadata": {
      "needs_background": "light"
     },
     "output_type": "display_data"
    }
   ],
   "source": [
    "# Plot samples from this distribution\n",
    "\n",
    "x = psd_mvn.sample(N)\n",
    "x1 = x[:, 0]\n",
    "x2 = x[:, 1]\n",
    "plt.xlim(-5, 5)\n",
    "plt.ylim(-5, 5)\n",
    "plt.title(\"Scatter plot of samples\")\n",
    "plt.scatter(x1, x2, alpha=0.5);"
   ]
  },
  {
   "cell_type": "markdown",
   "metadata": {},
   "source": [
    "If the input to the function `tf.linalg.cholesky` is positive semi-definite but not positive definite, it will also fail:"
   ]
  },
  {
   "cell_type": "code",
   "execution_count": 14,
   "metadata": {},
   "outputs": [
    {
     "name": "stdout",
     "output_type": "stream",
     "text": [
      "Cholesky decomposition was not successful. The input might not be valid. [Op:Cholesky]\n"
     ]
    }
   ],
   "source": [
    "# Try to compute the Cholesky decomposition for a positive semi-definite matrix\n",
    "\n",
    "another_bad_sigma = [[10., 0.], [0., 0.]]\n",
    "\n",
    "try:\n",
    "    scale_tril = tf.linalg.cholesky(another_bad_sigma)\n",
    "except Exception as e:\n",
    "    print(e)"
   ]
  },
  {
   "cell_type": "markdown",
   "metadata": {},
   "source": [
    "In summary: if the covariance matrix $\\Sigma$ for your multivariate Gaussian distribution is positive-definite, then an algorithm that computes the Cholesky decomposition of $\\Sigma$ returns a lower-triangular matrix $L$ such that $LL^T = \\Sigma$. This $L$ can then be passed as the `scale_tril` of `MultivariateNormalTriL`."
   ]
  },
  {
   "cell_type": "markdown",
   "metadata": {},
   "source": [
    "## Putting it all together"
   ]
  },
  {
   "cell_type": "markdown",
   "metadata": {},
   "source": [
    "You are now ready to put everything that you have learned in this reading together.\n",
    "\n",
    "To create a multivariate Gaussian distribution with full covariance you need to:\n",
    "\n",
    "1. Specify parameters $\\mu$ and either $\\Sigma$ (a symmetric positive definite matrix) or $L$ (a lower triangular matrix with positive diagonal elements), such that $\\Sigma = LL^T$.\n",
    "\n",
    "2. If only $\\Sigma$ is specified, compute `scale_tril = tf.linalg.cholesky(sigma)`.\n",
    "\n",
    "3. Create the distribution: `multivariate_normal = tfd.MultivariateNormalTriL(loc=mu, scale_tril=scale_tril)`."
   ]
  },
  {
   "cell_type": "code",
   "execution_count": 15,
   "metadata": {},
   "outputs": [],
   "source": [
    "# Create a multivariate Gaussian distribution\n",
    "\n",
    "mu = [1., 2., 3.]\n",
    "sigma = [[0.5, 0.1, 0.1],\n",
    "         [0.1,  1., 0.6],\n",
    "         [0.1, 0.6, 2.]]\n",
    "\n",
    "scale_tril = tf.linalg.cholesky(sigma)\n",
    "\n",
    "multivariate_normal = tfd.MultivariateNormalTriL(loc=mu, scale_tril=scale_tril)"
   ]
  },
  {
   "cell_type": "code",
   "execution_count": 16,
   "metadata": {},
   "outputs": [
    {
     "data": {
      "text/plain": [
       "<tf.Tensor: shape=(3, 3), dtype=float32, numpy=\n",
       "array([[0.49999997, 0.1       , 0.1       ],\n",
       "       [0.1       , 1.0000001 , 0.6       ],\n",
       "       [0.1       , 0.6       , 2.        ]], dtype=float32)>"
      ]
     },
     "execution_count": 16,
     "metadata": {},
     "output_type": "execute_result"
    }
   ],
   "source": [
    "# Check the covariance matrix\n",
    "\n",
    "multivariate_normal.covariance()"
   ]
  },
  {
   "cell_type": "code",
   "execution_count": 17,
   "metadata": {},
   "outputs": [
    {
     "data": {
      "text/plain": [
       "<tf.Tensor: shape=(3,), dtype=float32, numpy=array([1., 2., 3.], dtype=float32)>"
      ]
     },
     "execution_count": 17,
     "metadata": {},
     "output_type": "execute_result"
    }
   ],
   "source": [
    "# Check the mean\n",
    "\n",
    "multivariate_normal.mean()"
   ]
  },
  {
   "cell_type": "markdown",
   "metadata": {},
   "source": [
    "## Deprecated: `MultivariateNormalFullCovariance`\n",
    "\n",
    "There was previously a class called `tfd.MultivariateNormalFullCovariance` which takes the full covariance matrix in its constructor, but this is being deprecated. Two reasons for this are:\n",
    "\n",
    "* covariance matrices are symmetric, so specifying one directly involves passing redundant information, which involves writing unnecessary code.  \n",
    "* it is easier to enforce positive-definiteness through constraints on the elements of a decomposition than through a covariance matrix itself. The decomposition's only constraint is that its diagonal elements are positive, a condition that is easy to parameterize for."
   ]
  },
  {
   "cell_type": "markdown",
   "metadata": {},
   "source": [
    "### Further reading and resources\n",
    "* https://www.tensorflow.org/probability/api_docs/python/tfp/distributions/MultivariateNormalTriL\n",
    "* https://www.tensorflow.org/api_docs/python/tf/linalg/cholesky"
   ]
  }
 ],
 "metadata": {
  "kernelspec": {
   "display_name": "Python 3",
   "language": "python",
   "name": "python3"
  },
  "language_info": {
   "codemirror_mode": {
    "name": "ipython",
    "version": 3
   },
   "file_extension": ".py",
   "mimetype": "text/x-python",
   "name": "python",
   "nbconvert_exporter": "python",
   "pygments_lexer": "ipython3",
   "version": "3.7.6"
  }
 },
 "nbformat": 4,
 "nbformat_minor": 4
}
